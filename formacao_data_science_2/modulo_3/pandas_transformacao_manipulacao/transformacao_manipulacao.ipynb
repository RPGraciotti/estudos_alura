{
 "cells": [
  {
   "cell_type": "markdown",
   "metadata": {},
   "source": [
    "# Entendendo o problema\n",
    "## Conhecendo o problema"
   ]
  },
  {
   "cell_type": "code",
   "execution_count": 1,
   "metadata": {},
   "outputs": [],
   "source": [
    "import pandas as pd\n",
    "import numpy as np\n",
    "import datetime"
   ]
  },
  {
   "cell_type": "code",
   "execution_count": 2,
   "metadata": {},
   "outputs": [
    {
     "data": {
      "text/html": [
       "<div>\n",
       "<style scoped>\n",
       "    .dataframe tbody tr th:only-of-type {\n",
       "        vertical-align: middle;\n",
       "    }\n",
       "\n",
       "    .dataframe tbody tr th {\n",
       "        vertical-align: top;\n",
       "    }\n",
       "\n",
       "    .dataframe thead th {\n",
       "        text-align: right;\n",
       "    }\n",
       "</style>\n",
       "<table border=\"1\" class=\"dataframe\">\n",
       "  <thead>\n",
       "    <tr style=\"text-align: right;\">\n",
       "      <th></th>\n",
       "      <th>info_moveis</th>\n",
       "    </tr>\n",
       "  </thead>\n",
       "  <tbody>\n",
       "    <tr>\n",
       "      <th>0</th>\n",
       "      <td>{'avaliacao_geral': '10.0', 'experiencia_local...</td>\n",
       "    </tr>\n",
       "    <tr>\n",
       "      <th>1</th>\n",
       "      <td>{'avaliacao_geral': '10.0', 'experiencia_local...</td>\n",
       "    </tr>\n",
       "    <tr>\n",
       "      <th>2</th>\n",
       "      <td>{'avaliacao_geral': '10.0', 'experiencia_local...</td>\n",
       "    </tr>\n",
       "    <tr>\n",
       "      <th>3</th>\n",
       "      <td>{'avaliacao_geral': '10.0', 'experiencia_local...</td>\n",
       "    </tr>\n",
       "    <tr>\n",
       "      <th>4</th>\n",
       "      <td>{'avaliacao_geral': '10.0', 'experiencia_local...</td>\n",
       "    </tr>\n",
       "  </tbody>\n",
       "</table>\n",
       "</div>"
      ],
      "text/plain": [
       "                                         info_moveis\n",
       "0  {'avaliacao_geral': '10.0', 'experiencia_local...\n",
       "1  {'avaliacao_geral': '10.0', 'experiencia_local...\n",
       "2  {'avaliacao_geral': '10.0', 'experiencia_local...\n",
       "3  {'avaliacao_geral': '10.0', 'experiencia_local...\n",
       "4  {'avaliacao_geral': '10.0', 'experiencia_local..."
      ]
     },
     "execution_count": 2,
     "metadata": {},
     "output_type": "execute_result"
    }
   ],
   "source": [
    "dados = pd.read_json('./data/dados_hospedagem.json')\n",
    "dados.head()"
   ]
  },
  {
   "cell_type": "markdown",
   "metadata": {},
   "source": [
    "## Compreendendo os dados"
   ]
  },
  {
   "cell_type": "code",
   "execution_count": 3,
   "metadata": {},
   "outputs": [
    {
     "data": {
      "text/html": [
       "<div>\n",
       "<style scoped>\n",
       "    .dataframe tbody tr th:only-of-type {\n",
       "        vertical-align: middle;\n",
       "    }\n",
       "\n",
       "    .dataframe tbody tr th {\n",
       "        vertical-align: top;\n",
       "    }\n",
       "\n",
       "    .dataframe thead th {\n",
       "        text-align: right;\n",
       "    }\n",
       "</style>\n",
       "<table border=\"1\" class=\"dataframe\">\n",
       "  <thead>\n",
       "    <tr style=\"text-align: right;\">\n",
       "      <th></th>\n",
       "      <th>avaliacao_geral</th>\n",
       "      <th>experiencia_local</th>\n",
       "      <th>max_hospedes</th>\n",
       "      <th>descricao_local</th>\n",
       "      <th>descricao_vizinhanca</th>\n",
       "      <th>quantidade_banheiros</th>\n",
       "      <th>quantidade_quartos</th>\n",
       "      <th>quantidade_camas</th>\n",
       "      <th>modelo_cama</th>\n",
       "      <th>comodidades</th>\n",
       "      <th>taxa_deposito</th>\n",
       "      <th>taxa_limpeza</th>\n",
       "      <th>preco</th>\n",
       "    </tr>\n",
       "  </thead>\n",
       "  <tbody>\n",
       "    <tr>\n",
       "      <th>0</th>\n",
       "      <td>10.0</td>\n",
       "      <td>--</td>\n",
       "      <td>1</td>\n",
       "      <td>[This clean and comfortable one bedroom sits r...</td>\n",
       "      <td>[Lower Queen Anne is near the Seattle Center (...</td>\n",
       "      <td>[1, 1, 1, 1, 1, 1, 1, 1, 1, 1, 1, 1, 1, 1, 1, ...</td>\n",
       "      <td>[1, 1, 1, 1, 1, 1, 1, 1, 1, 1, 1, 1, 1, 1, 1, ...</td>\n",
       "      <td>[1, 1, 1, 1, 1, 1, 1, 1, 1, 1, 1, 1, 1, 1, 1, ...</td>\n",
       "      <td>[Real Bed, Futon, Futon, Pull-out Sofa, Real B...</td>\n",
       "      <td>[{Internet,\"Wireless Internet\",Kitchen,\"Free P...</td>\n",
       "      <td>[$0, $0, $0, $0, $0, $350.00, $350.00, $350.00...</td>\n",
       "      <td>[$0, $0, $0, $20.00, $15.00, $28.00, $35.00, $...</td>\n",
       "      <td>[$110.00, $45.00, $55.00, $52.00, $85.00, $50....</td>\n",
       "    </tr>\n",
       "    <tr>\n",
       "      <th>1</th>\n",
       "      <td>10.0</td>\n",
       "      <td>--</td>\n",
       "      <td>10</td>\n",
       "      <td>[Welcome to the heart of the 'Ballard Brewery ...</td>\n",
       "      <td>[--, Capital Hill is the heart of Seattle, bor...</td>\n",
       "      <td>[2, 3, 2, 3, 3, 3, 2, 1, 2, 2, 2]</td>\n",
       "      <td>[3, 4, 2, 3, 3, 3, 3, 3, 3, 4, 3]</td>\n",
       "      <td>[5, 6, 8, 3, 3, 5, 4, 5, 6, 7, 4]</td>\n",
       "      <td>[Real Bed, Real Bed, Real Bed, Real Bed, Real ...</td>\n",
       "      <td>[{TV,Internet,\"Wireless Internet\",Kitchen,\"Fre...</td>\n",
       "      <td>[$500.00, $300.00, $0, $300.00, $300.00, $360....</td>\n",
       "      <td>[$125.00, $100.00, $85.00, $110.00, $110.00, $...</td>\n",
       "      <td>[$350.00, $300.00, $425.00, $300.00, $285.00, ...</td>\n",
       "    </tr>\n",
       "    <tr>\n",
       "      <th>2</th>\n",
       "      <td>10.0</td>\n",
       "      <td>--</td>\n",
       "      <td>11</td>\n",
       "      <td>[New modern house built in 2013.  Spectacular ...</td>\n",
       "      <td>[Upper Queen Anne is a charming neighborhood f...</td>\n",
       "      <td>[4]</td>\n",
       "      <td>[5]</td>\n",
       "      <td>[7]</td>\n",
       "      <td>[Real Bed]</td>\n",
       "      <td>[{TV,\"Cable TV\",Internet,\"Wireless Internet\",\"...</td>\n",
       "      <td>[$1,000.00]</td>\n",
       "      <td>[$300.00]</td>\n",
       "      <td>[$975.00]</td>\n",
       "    </tr>\n",
       "    <tr>\n",
       "      <th>3</th>\n",
       "      <td>10.0</td>\n",
       "      <td>--</td>\n",
       "      <td>12</td>\n",
       "      <td>[Our NW style home is 3200+ sq ft with 3 level...</td>\n",
       "      <td>[The Views from our top floor!  Wallingford ha...</td>\n",
       "      <td>[3, 3, 3, 3, 3, 3, 3, 3]</td>\n",
       "      <td>[6, 6, 5, 5, 5, 5, 4, 4]</td>\n",
       "      <td>[6, 6, 7, 8, 7, 7, 6, 6]</td>\n",
       "      <td>[Real Bed, Real Bed, Real Bed, Real Bed, Real ...</td>\n",
       "      <td>[{Internet,\"Wireless Internet\",Kitchen,\"Free P...</td>\n",
       "      <td>[$500.00, $500.00, $500.00, $500.00, $500.00, ...</td>\n",
       "      <td>[$225.00, $300.00, $250.00, $250.00, $250.00, ...</td>\n",
       "      <td>[$490.00, $550.00, $350.00, $350.00, $350.00, ...</td>\n",
       "    </tr>\n",
       "    <tr>\n",
       "      <th>4</th>\n",
       "      <td>10.0</td>\n",
       "      <td>--</td>\n",
       "      <td>14</td>\n",
       "      <td>[Perfect for groups. 2 bedrooms, full bathroom...</td>\n",
       "      <td>[Safeway grocery store within walking distance...</td>\n",
       "      <td>[2, 3]</td>\n",
       "      <td>[2, 6]</td>\n",
       "      <td>[3, 9]</td>\n",
       "      <td>[Real Bed, Real Bed]</td>\n",
       "      <td>[{TV,Internet,\"Wireless Internet\",Kitchen,\"Fre...</td>\n",
       "      <td>[$300.00, $2,000.00]</td>\n",
       "      <td>[$40.00, $150.00]</td>\n",
       "      <td>[$200.00, $545.00]</td>\n",
       "    </tr>\n",
       "    <tr>\n",
       "      <th>...</th>\n",
       "      <td>...</td>\n",
       "      <td>...</td>\n",
       "      <td>...</td>\n",
       "      <td>...</td>\n",
       "      <td>...</td>\n",
       "      <td>...</td>\n",
       "      <td>...</td>\n",
       "      <td>...</td>\n",
       "      <td>...</td>\n",
       "      <td>...</td>\n",
       "      <td>...</td>\n",
       "      <td>...</td>\n",
       "      <td>...</td>\n",
       "    </tr>\n",
       "    <tr>\n",
       "      <th>65</th>\n",
       "      <td>nan</td>\n",
       "      <td>--</td>\n",
       "      <td>5</td>\n",
       "      <td>[Our cozy little bungalow is the perfect place...</td>\n",
       "      <td>[The Queen Anne neighborhood is one of the mos...</td>\n",
       "      <td>[1, 3, 2, 2, 2, 1, 2, 1, 1, 1, 2, 3, 2, 2, 2, ...</td>\n",
       "      <td>[2, 2, 2, 3, 2, 2, 2, 2, 2, 2, 2, 3, 2, 2, 2, ...</td>\n",
       "      <td>[3, 2, 2, 3, 3, 2, 3, 2, 2, 3, 3, 3, 2, 3, 2, ...</td>\n",
       "      <td>[Real Bed, Real Bed, Real Bed, Real Bed, Real ...</td>\n",
       "      <td>[{\"Cable TV\",\"Wireless Internet\",Kitchen,\"Free...</td>\n",
       "      <td>[$250.00, $200.00, $0, $0, $0, $200.00, $350.0...</td>\n",
       "      <td>[$35.00, $50.00, $100.00, $100.00, $0, $30.00,...</td>\n",
       "      <td>[$150.00, $200.00, $143.00, $150.00, $350.00, ...</td>\n",
       "    </tr>\n",
       "    <tr>\n",
       "      <th>66</th>\n",
       "      <td>nan</td>\n",
       "      <td>--</td>\n",
       "      <td>6</td>\n",
       "      <td>[Bright clean 2 bedroom 1 bath appartment in t...</td>\n",
       "      <td>[Ballard is the most interesting and ecclectic...</td>\n",
       "      <td>[1, 1, 3, 2, 1, 3, 2, 2, 1, 2, 2, 2, 1, 2, 1, ...</td>\n",
       "      <td>[2, 3, 3, 2, 2, 3, 2, 3, 2, 2, 2, 2, 4, 3, 3, ...</td>\n",
       "      <td>[3, 3, 2, 3, 3, 3, 2, 3, 3, 3, 2, 2, 4, 4, 3, ...</td>\n",
       "      <td>[Real Bed, Real Bed, Real Bed, Real Bed, Real ...</td>\n",
       "      <td>[{TV,\"Cable TV\",Internet,\"Wireless Internet\",K...</td>\n",
       "      <td>[$200.00, $200.00, $100.00, $0, $0, $750.00, $...</td>\n",
       "      <td>[$0, $0, $100.00, $0, $75.00, $140.00, $112.00...</td>\n",
       "      <td>[$99.00, $185.00, $250.00, $200.00, $275.00, $...</td>\n",
       "    </tr>\n",
       "    <tr>\n",
       "      <th>67</th>\n",
       "      <td>nan</td>\n",
       "      <td>--</td>\n",
       "      <td>7</td>\n",
       "      <td>[Beautiful end-unit townhome with lots of dayl...</td>\n",
       "      <td>[Cherry blossoms (Sakura) in the spring, every...</td>\n",
       "      <td>[4, 3, 1, 2, 2, 1, 2, 1, 2, 2]</td>\n",
       "      <td>[3, 4, 3, 3, 3, 3, 3, 3, 3, 4]</td>\n",
       "      <td>[3, 5, 1, 5, 3, 2, 3, 4, 4, 4]</td>\n",
       "      <td>[Real Bed, Real Bed, Real Bed, Real Bed, Real ...</td>\n",
       "      <td>[{TV,\"Cable TV\",Internet,\"Wireless Internet\",\"...</td>\n",
       "      <td>[$750.00, $350.00, $500.00, $500.00, $0, $200....</td>\n",
       "      <td>[$300.00, $90.00, $250.00, $100.00, $109.00, $...</td>\n",
       "      <td>[$218.00, $350.00, $450.00, $149.00, $99.00, $...</td>\n",
       "    </tr>\n",
       "    <tr>\n",
       "      <th>68</th>\n",
       "      <td>nan</td>\n",
       "      <td>--</td>\n",
       "      <td>8</td>\n",
       "      <td>[Heart of Ballard new townhome with 4 BRs + ba...</td>\n",
       "      <td>[--, --, The suite is conveniently located off...</td>\n",
       "      <td>[2, 2, 3, 1, 1, 2, 1, 3, 2, 1, 2, 1, 2, 2, 2, ...</td>\n",
       "      <td>[4, 2, 3, 4, 3, 3, 4, 4, 3, 5, 2, 3, 3, 4, 5, ...</td>\n",
       "      <td>[4, 4, 3, 3, 5, 5, 5, 5, 3, 5, 4, 5, 5, 4, 1, ...</td>\n",
       "      <td>[Real Bed, Real Bed, Real Bed, Real Bed, Real ...</td>\n",
       "      <td>[{TV,Internet,\"Wireless Internet\",\"Air Conditi...</td>\n",
       "      <td>[$500.00, $150.00, $250.00, $800.00, $0, $500....</td>\n",
       "      <td>[$50.00, $85.00, $150.00, $75.00, $100.00, $80...</td>\n",
       "      <td>[$275.00, $199.00, $400.00, $325.00, $300.00, ...</td>\n",
       "    </tr>\n",
       "    <tr>\n",
       "      <th>69</th>\n",
       "      <td>nan</td>\n",
       "      <td>--</td>\n",
       "      <td>9</td>\n",
       "      <td>[This business-themed modern home features:  *...</td>\n",
       "      <td>[Your hosts made Madison Valley their home whe...</td>\n",
       "      <td>[2, 1]</td>\n",
       "      <td>[3, 4]</td>\n",
       "      <td>[6, 6]</td>\n",
       "      <td>[Real Bed, Real Bed]</td>\n",
       "      <td>[{TV,\"Cable TV\",Internet,\"Wireless Internet\",\"...</td>\n",
       "      <td>[$1,000.00, $500.00]</td>\n",
       "      <td>[$150.00, $0]</td>\n",
       "      <td>[$250.00, $350.00]</td>\n",
       "    </tr>\n",
       "  </tbody>\n",
       "</table>\n",
       "<p>70 rows × 13 columns</p>\n",
       "</div>"
      ],
      "text/plain": [
       "   avaliacao_geral experiencia_local max_hospedes  \\\n",
       "0             10.0                --            1   \n",
       "1             10.0                --           10   \n",
       "2             10.0                --           11   \n",
       "3             10.0                --           12   \n",
       "4             10.0                --           14   \n",
       "..             ...               ...          ...   \n",
       "65             nan                --            5   \n",
       "66             nan                --            6   \n",
       "67             nan                --            7   \n",
       "68             nan                --            8   \n",
       "69             nan                --            9   \n",
       "\n",
       "                                      descricao_local  \\\n",
       "0   [This clean and comfortable one bedroom sits r...   \n",
       "1   [Welcome to the heart of the 'Ballard Brewery ...   \n",
       "2   [New modern house built in 2013.  Spectacular ...   \n",
       "3   [Our NW style home is 3200+ sq ft with 3 level...   \n",
       "4   [Perfect for groups. 2 bedrooms, full bathroom...   \n",
       "..                                                ...   \n",
       "65  [Our cozy little bungalow is the perfect place...   \n",
       "66  [Bright clean 2 bedroom 1 bath appartment in t...   \n",
       "67  [Beautiful end-unit townhome with lots of dayl...   \n",
       "68  [Heart of Ballard new townhome with 4 BRs + ba...   \n",
       "69  [This business-themed modern home features:  *...   \n",
       "\n",
       "                                 descricao_vizinhanca  \\\n",
       "0   [Lower Queen Anne is near the Seattle Center (...   \n",
       "1   [--, Capital Hill is the heart of Seattle, bor...   \n",
       "2   [Upper Queen Anne is a charming neighborhood f...   \n",
       "3   [The Views from our top floor!  Wallingford ha...   \n",
       "4   [Safeway grocery store within walking distance...   \n",
       "..                                                ...   \n",
       "65  [The Queen Anne neighborhood is one of the mos...   \n",
       "66  [Ballard is the most interesting and ecclectic...   \n",
       "67  [Cherry blossoms (Sakura) in the spring, every...   \n",
       "68  [--, --, The suite is conveniently located off...   \n",
       "69  [Your hosts made Madison Valley their home whe...   \n",
       "\n",
       "                                 quantidade_banheiros  \\\n",
       "0   [1, 1, 1, 1, 1, 1, 1, 1, 1, 1, 1, 1, 1, 1, 1, ...   \n",
       "1                   [2, 3, 2, 3, 3, 3, 2, 1, 2, 2, 2]   \n",
       "2                                                 [4]   \n",
       "3                            [3, 3, 3, 3, 3, 3, 3, 3]   \n",
       "4                                              [2, 3]   \n",
       "..                                                ...   \n",
       "65  [1, 3, 2, 2, 2, 1, 2, 1, 1, 1, 2, 3, 2, 2, 2, ...   \n",
       "66  [1, 1, 3, 2, 1, 3, 2, 2, 1, 2, 2, 2, 1, 2, 1, ...   \n",
       "67                     [4, 3, 1, 2, 2, 1, 2, 1, 2, 2]   \n",
       "68  [2, 2, 3, 1, 1, 2, 1, 3, 2, 1, 2, 1, 2, 2, 2, ...   \n",
       "69                                             [2, 1]   \n",
       "\n",
       "                                   quantidade_quartos  \\\n",
       "0   [1, 1, 1, 1, 1, 1, 1, 1, 1, 1, 1, 1, 1, 1, 1, ...   \n",
       "1                   [3, 4, 2, 3, 3, 3, 3, 3, 3, 4, 3]   \n",
       "2                                                 [5]   \n",
       "3                            [6, 6, 5, 5, 5, 5, 4, 4]   \n",
       "4                                              [2, 6]   \n",
       "..                                                ...   \n",
       "65  [2, 2, 2, 3, 2, 2, 2, 2, 2, 2, 2, 3, 2, 2, 2, ...   \n",
       "66  [2, 3, 3, 2, 2, 3, 2, 3, 2, 2, 2, 2, 4, 3, 3, ...   \n",
       "67                     [3, 4, 3, 3, 3, 3, 3, 3, 3, 4]   \n",
       "68  [4, 2, 3, 4, 3, 3, 4, 4, 3, 5, 2, 3, 3, 4, 5, ...   \n",
       "69                                             [3, 4]   \n",
       "\n",
       "                                     quantidade_camas  \\\n",
       "0   [1, 1, 1, 1, 1, 1, 1, 1, 1, 1, 1, 1, 1, 1, 1, ...   \n",
       "1                   [5, 6, 8, 3, 3, 5, 4, 5, 6, 7, 4]   \n",
       "2                                                 [7]   \n",
       "3                            [6, 6, 7, 8, 7, 7, 6, 6]   \n",
       "4                                              [3, 9]   \n",
       "..                                                ...   \n",
       "65  [3, 2, 2, 3, 3, 2, 3, 2, 2, 3, 3, 3, 2, 3, 2, ...   \n",
       "66  [3, 3, 2, 3, 3, 3, 2, 3, 3, 3, 2, 2, 4, 4, 3, ...   \n",
       "67                     [3, 5, 1, 5, 3, 2, 3, 4, 4, 4]   \n",
       "68  [4, 4, 3, 3, 5, 5, 5, 5, 3, 5, 4, 5, 5, 4, 1, ...   \n",
       "69                                             [6, 6]   \n",
       "\n",
       "                                          modelo_cama  \\\n",
       "0   [Real Bed, Futon, Futon, Pull-out Sofa, Real B...   \n",
       "1   [Real Bed, Real Bed, Real Bed, Real Bed, Real ...   \n",
       "2                                          [Real Bed]   \n",
       "3   [Real Bed, Real Bed, Real Bed, Real Bed, Real ...   \n",
       "4                                [Real Bed, Real Bed]   \n",
       "..                                                ...   \n",
       "65  [Real Bed, Real Bed, Real Bed, Real Bed, Real ...   \n",
       "66  [Real Bed, Real Bed, Real Bed, Real Bed, Real ...   \n",
       "67  [Real Bed, Real Bed, Real Bed, Real Bed, Real ...   \n",
       "68  [Real Bed, Real Bed, Real Bed, Real Bed, Real ...   \n",
       "69                               [Real Bed, Real Bed]   \n",
       "\n",
       "                                          comodidades  \\\n",
       "0   [{Internet,\"Wireless Internet\",Kitchen,\"Free P...   \n",
       "1   [{TV,Internet,\"Wireless Internet\",Kitchen,\"Fre...   \n",
       "2   [{TV,\"Cable TV\",Internet,\"Wireless Internet\",\"...   \n",
       "3   [{Internet,\"Wireless Internet\",Kitchen,\"Free P...   \n",
       "4   [{TV,Internet,\"Wireless Internet\",Kitchen,\"Fre...   \n",
       "..                                                ...   \n",
       "65  [{\"Cable TV\",\"Wireless Internet\",Kitchen,\"Free...   \n",
       "66  [{TV,\"Cable TV\",Internet,\"Wireless Internet\",K...   \n",
       "67  [{TV,\"Cable TV\",Internet,\"Wireless Internet\",\"...   \n",
       "68  [{TV,Internet,\"Wireless Internet\",\"Air Conditi...   \n",
       "69  [{TV,\"Cable TV\",Internet,\"Wireless Internet\",\"...   \n",
       "\n",
       "                                        taxa_deposito  \\\n",
       "0   [$0, $0, $0, $0, $0, $350.00, $350.00, $350.00...   \n",
       "1   [$500.00, $300.00, $0, $300.00, $300.00, $360....   \n",
       "2                                         [$1,000.00]   \n",
       "3   [$500.00, $500.00, $500.00, $500.00, $500.00, ...   \n",
       "4                                [$300.00, $2,000.00]   \n",
       "..                                                ...   \n",
       "65  [$250.00, $200.00, $0, $0, $0, $200.00, $350.0...   \n",
       "66  [$200.00, $200.00, $100.00, $0, $0, $750.00, $...   \n",
       "67  [$750.00, $350.00, $500.00, $500.00, $0, $200....   \n",
       "68  [$500.00, $150.00, $250.00, $800.00, $0, $500....   \n",
       "69                               [$1,000.00, $500.00]   \n",
       "\n",
       "                                         taxa_limpeza  \\\n",
       "0   [$0, $0, $0, $20.00, $15.00, $28.00, $35.00, $...   \n",
       "1   [$125.00, $100.00, $85.00, $110.00, $110.00, $...   \n",
       "2                                           [$300.00]   \n",
       "3   [$225.00, $300.00, $250.00, $250.00, $250.00, ...   \n",
       "4                                   [$40.00, $150.00]   \n",
       "..                                                ...   \n",
       "65  [$35.00, $50.00, $100.00, $100.00, $0, $30.00,...   \n",
       "66  [$0, $0, $100.00, $0, $75.00, $140.00, $112.00...   \n",
       "67  [$300.00, $90.00, $250.00, $100.00, $109.00, $...   \n",
       "68  [$50.00, $85.00, $150.00, $75.00, $100.00, $80...   \n",
       "69                                      [$150.00, $0]   \n",
       "\n",
       "                                                preco  \n",
       "0   [$110.00, $45.00, $55.00, $52.00, $85.00, $50....  \n",
       "1   [$350.00, $300.00, $425.00, $300.00, $285.00, ...  \n",
       "2                                           [$975.00]  \n",
       "3   [$490.00, $550.00, $350.00, $350.00, $350.00, ...  \n",
       "4                                  [$200.00, $545.00]  \n",
       "..                                                ...  \n",
       "65  [$150.00, $200.00, $143.00, $150.00, $350.00, ...  \n",
       "66  [$99.00, $185.00, $250.00, $200.00, $275.00, $...  \n",
       "67  [$218.00, $350.00, $450.00, $149.00, $99.00, $...  \n",
       "68  [$275.00, $199.00, $400.00, $325.00, $300.00, ...  \n",
       "69                                 [$250.00, $350.00]  \n",
       "\n",
       "[70 rows x 13 columns]"
      ]
     },
     "execution_count": 3,
     "metadata": {},
     "output_type": "execute_result"
    }
   ],
   "source": [
    "dados = pd.json_normalize(dados['info_moveis'])\n",
    "dados"
   ]
  },
  {
   "cell_type": "code",
   "execution_count": 4,
   "metadata": {},
   "outputs": [
    {
     "data": {
      "text/plain": [
       "Index(['avaliacao_geral', 'experiencia_local', 'max_hospedes',\n",
       "       'descricao_local', 'descricao_vizinhanca', 'quantidade_banheiros',\n",
       "       'quantidade_quartos', 'quantidade_camas', 'modelo_cama', 'comodidades',\n",
       "       'taxa_deposito', 'taxa_limpeza', 'preco'],\n",
       "      dtype='object')"
      ]
     },
     "execution_count": 4,
     "metadata": {},
     "output_type": "execute_result"
    }
   ],
   "source": [
    "dados.columns"
   ]
  },
  {
   "cell_type": "code",
   "execution_count": 5,
   "metadata": {},
   "outputs": [
    {
     "name": "stdout",
     "output_type": "stream",
     "text": [
      "<class 'pandas.core.frame.DataFrame'>\n",
      "RangeIndex: 70 entries, 0 to 69\n",
      "Data columns (total 13 columns):\n",
      " #   Column                Non-Null Count  Dtype \n",
      "---  ------                --------------  ----- \n",
      " 0   avaliacao_geral       70 non-null     object\n",
      " 1   experiencia_local     70 non-null     object\n",
      " 2   max_hospedes          70 non-null     object\n",
      " 3   descricao_local       70 non-null     object\n",
      " 4   descricao_vizinhanca  70 non-null     object\n",
      " 5   quantidade_banheiros  70 non-null     object\n",
      " 6   quantidade_quartos    70 non-null     object\n",
      " 7   quantidade_camas      70 non-null     object\n",
      " 8   modelo_cama           70 non-null     object\n",
      " 9   comodidades           70 non-null     object\n",
      " 10  taxa_deposito         70 non-null     object\n",
      " 11  taxa_limpeza          70 non-null     object\n",
      " 12  preco                 70 non-null     object\n",
      "dtypes: object(13)\n",
      "memory usage: 7.2+ KB\n"
     ]
    }
   ],
   "source": [
    "dados.info()"
   ]
  },
  {
   "cell_type": "markdown",
   "metadata": {},
   "source": [
    "Pode perceber está tudo como objeto e não nulo, mas no head já dá pra ver que existem alguns valores nulos dentro dessas listas"
   ]
  },
  {
   "cell_type": "markdown",
   "metadata": {},
   "source": [
    "# Dados numéricos\n",
    "## Retirando as listas"
   ]
  },
  {
   "cell_type": "code",
   "execution_count": 6,
   "metadata": {},
   "outputs": [],
   "source": [
    "colunas = list(dados.columns)"
   ]
  },
  {
   "cell_type": "code",
   "execution_count": 7,
   "metadata": {},
   "outputs": [
    {
     "data": {
      "text/html": [
       "<div>\n",
       "<style scoped>\n",
       "    .dataframe tbody tr th:only-of-type {\n",
       "        vertical-align: middle;\n",
       "    }\n",
       "\n",
       "    .dataframe tbody tr th {\n",
       "        vertical-align: top;\n",
       "    }\n",
       "\n",
       "    .dataframe thead th {\n",
       "        text-align: right;\n",
       "    }\n",
       "</style>\n",
       "<table border=\"1\" class=\"dataframe\">\n",
       "  <thead>\n",
       "    <tr style=\"text-align: right;\">\n",
       "      <th></th>\n",
       "      <th>avaliacao_geral</th>\n",
       "      <th>experiencia_local</th>\n",
       "      <th>max_hospedes</th>\n",
       "      <th>descricao_local</th>\n",
       "      <th>descricao_vizinhanca</th>\n",
       "      <th>quantidade_banheiros</th>\n",
       "      <th>quantidade_quartos</th>\n",
       "      <th>quantidade_camas</th>\n",
       "      <th>modelo_cama</th>\n",
       "      <th>comodidades</th>\n",
       "      <th>taxa_deposito</th>\n",
       "      <th>taxa_limpeza</th>\n",
       "      <th>preco</th>\n",
       "    </tr>\n",
       "  </thead>\n",
       "  <tbody>\n",
       "    <tr>\n",
       "      <th>0</th>\n",
       "      <td>10.0</td>\n",
       "      <td>--</td>\n",
       "      <td>1</td>\n",
       "      <td>This clean and comfortable one bedroom sits ri...</td>\n",
       "      <td>Lower Queen Anne is near the Seattle Center (s...</td>\n",
       "      <td>1</td>\n",
       "      <td>1</td>\n",
       "      <td>1</td>\n",
       "      <td>Real Bed</td>\n",
       "      <td>{Internet,\"Wireless Internet\",Kitchen,\"Free Pa...</td>\n",
       "      <td>$0</td>\n",
       "      <td>$0</td>\n",
       "      <td>$110.00</td>\n",
       "    </tr>\n",
       "    <tr>\n",
       "      <th>0</th>\n",
       "      <td>10.0</td>\n",
       "      <td>--</td>\n",
       "      <td>1</td>\n",
       "      <td>Our century old Upper Queen Anne house is loca...</td>\n",
       "      <td>Upper Queen Anne is a really pleasant, unique ...</td>\n",
       "      <td>1</td>\n",
       "      <td>1</td>\n",
       "      <td>1</td>\n",
       "      <td>Futon</td>\n",
       "      <td>{TV,Internet,\"Wireless Internet\",Kitchen,\"Free...</td>\n",
       "      <td>$0</td>\n",
       "      <td>$0</td>\n",
       "      <td>$45.00</td>\n",
       "    </tr>\n",
       "    <tr>\n",
       "      <th>0</th>\n",
       "      <td>10.0</td>\n",
       "      <td>--</td>\n",
       "      <td>1</td>\n",
       "      <td>Cozy room in two-bedroom apartment along the l...</td>\n",
       "      <td>The convenience of being in Seattle but on the...</td>\n",
       "      <td>1</td>\n",
       "      <td>1</td>\n",
       "      <td>1</td>\n",
       "      <td>Futon</td>\n",
       "      <td>{TV,Internet,\"Wireless Internet\",Kitchen,\"Free...</td>\n",
       "      <td>$0</td>\n",
       "      <td>$0</td>\n",
       "      <td>$55.00</td>\n",
       "    </tr>\n",
       "    <tr>\n",
       "      <th>0</th>\n",
       "      <td>10.0</td>\n",
       "      <td>--</td>\n",
       "      <td>1</td>\n",
       "      <td>Very lovely and cozy room for one. Convenientl...</td>\n",
       "      <td>Ballard is lovely, vibrant and one of the most...</td>\n",
       "      <td>1</td>\n",
       "      <td>1</td>\n",
       "      <td>1</td>\n",
       "      <td>Pull-out Sofa</td>\n",
       "      <td>{Internet,\"Wireless Internet\",Kitchen,\"Free Pa...</td>\n",
       "      <td>$0</td>\n",
       "      <td>$20.00</td>\n",
       "      <td>$52.00</td>\n",
       "    </tr>\n",
       "    <tr>\n",
       "      <th>0</th>\n",
       "      <td>10.0</td>\n",
       "      <td>--</td>\n",
       "      <td>1</td>\n",
       "      <td>The “Studio at Mibbett Hollow' is in a Beautif...</td>\n",
       "      <td>--</td>\n",
       "      <td>1</td>\n",
       "      <td>1</td>\n",
       "      <td>1</td>\n",
       "      <td>Real Bed</td>\n",
       "      <td>{\"Wireless Internet\",Kitchen,\"Free Parking on ...</td>\n",
       "      <td>$0</td>\n",
       "      <td>$15.00</td>\n",
       "      <td>$85.00</td>\n",
       "    </tr>\n",
       "    <tr>\n",
       "      <th>...</th>\n",
       "      <td>...</td>\n",
       "      <td>...</td>\n",
       "      <td>...</td>\n",
       "      <td>...</td>\n",
       "      <td>...</td>\n",
       "      <td>...</td>\n",
       "      <td>...</td>\n",
       "      <td>...</td>\n",
       "      <td>...</td>\n",
       "      <td>...</td>\n",
       "      <td>...</td>\n",
       "      <td>...</td>\n",
       "      <td>...</td>\n",
       "    </tr>\n",
       "    <tr>\n",
       "      <th>68</th>\n",
       "      <td>nan</td>\n",
       "      <td>--</td>\n",
       "      <td>8</td>\n",
       "      <td>Beautiful craftsman home in the historic Wedgw...</td>\n",
       "      <td>--</td>\n",
       "      <td>3</td>\n",
       "      <td>4</td>\n",
       "      <td>5</td>\n",
       "      <td>Real Bed</td>\n",
       "      <td>{TV,\"Cable TV\",Internet,\"Wireless Internet\",\"A...</td>\n",
       "      <td>$1,000.00</td>\n",
       "      <td>$178.00</td>\n",
       "      <td>$299.00</td>\n",
       "    </tr>\n",
       "    <tr>\n",
       "      <th>68</th>\n",
       "      <td>nan</td>\n",
       "      <td>--</td>\n",
       "      <td>8</td>\n",
       "      <td>Located in a very easily accessible area of Se...</td>\n",
       "      <td>Quiet, dead end street near I-5. The proximity...</td>\n",
       "      <td>2</td>\n",
       "      <td>4</td>\n",
       "      <td>4</td>\n",
       "      <td>Real Bed</td>\n",
       "      <td>{TV,\"Cable TV\",Internet,\"Wireless Internet\",Ki...</td>\n",
       "      <td>$0</td>\n",
       "      <td>$99.00</td>\n",
       "      <td>$199.00</td>\n",
       "    </tr>\n",
       "    <tr>\n",
       "      <th>68</th>\n",
       "      <td>nan</td>\n",
       "      <td>--</td>\n",
       "      <td>8</td>\n",
       "      <td>This home is fully furnished and available wee...</td>\n",
       "      <td>--</td>\n",
       "      <td>1</td>\n",
       "      <td>3</td>\n",
       "      <td>4</td>\n",
       "      <td>Real Bed</td>\n",
       "      <td>{TV,\"Cable TV\",Internet,\"Wireless Internet\",\"A...</td>\n",
       "      <td>$0</td>\n",
       "      <td>$0</td>\n",
       "      <td>$400.00</td>\n",
       "    </tr>\n",
       "    <tr>\n",
       "      <th>69</th>\n",
       "      <td>nan</td>\n",
       "      <td>--</td>\n",
       "      <td>9</td>\n",
       "      <td>This business-themed modern home features:  *H...</td>\n",
       "      <td>Your hosts made Madison Valley their home when...</td>\n",
       "      <td>2</td>\n",
       "      <td>3</td>\n",
       "      <td>6</td>\n",
       "      <td>Real Bed</td>\n",
       "      <td>{TV,\"Cable TV\",Internet,\"Wireless Internet\",\"A...</td>\n",
       "      <td>$1,000.00</td>\n",
       "      <td>$150.00</td>\n",
       "      <td>$250.00</td>\n",
       "    </tr>\n",
       "    <tr>\n",
       "      <th>69</th>\n",
       "      <td>nan</td>\n",
       "      <td>--</td>\n",
       "      <td>9</td>\n",
       "      <td>This welcoming home is in the quiet residentia...</td>\n",
       "      <td>Despite the quiet, leafy streets of this resid...</td>\n",
       "      <td>1</td>\n",
       "      <td>4</td>\n",
       "      <td>6</td>\n",
       "      <td>Real Bed</td>\n",
       "      <td>{TV,Internet,\"Wireless Internet\",Kitchen,\"Free...</td>\n",
       "      <td>$500.00</td>\n",
       "      <td>$0</td>\n",
       "      <td>$350.00</td>\n",
       "    </tr>\n",
       "  </tbody>\n",
       "</table>\n",
       "<p>3818 rows × 13 columns</p>\n",
       "</div>"
      ],
      "text/plain": [
       "   avaliacao_geral experiencia_local max_hospedes  \\\n",
       "0             10.0                --            1   \n",
       "0             10.0                --            1   \n",
       "0             10.0                --            1   \n",
       "0             10.0                --            1   \n",
       "0             10.0                --            1   \n",
       "..             ...               ...          ...   \n",
       "68             nan                --            8   \n",
       "68             nan                --            8   \n",
       "68             nan                --            8   \n",
       "69             nan                --            9   \n",
       "69             nan                --            9   \n",
       "\n",
       "                                      descricao_local  \\\n",
       "0   This clean and comfortable one bedroom sits ri...   \n",
       "0   Our century old Upper Queen Anne house is loca...   \n",
       "0   Cozy room in two-bedroom apartment along the l...   \n",
       "0   Very lovely and cozy room for one. Convenientl...   \n",
       "0   The “Studio at Mibbett Hollow' is in a Beautif...   \n",
       "..                                                ...   \n",
       "68  Beautiful craftsman home in the historic Wedgw...   \n",
       "68  Located in a very easily accessible area of Se...   \n",
       "68  This home is fully furnished and available wee...   \n",
       "69  This business-themed modern home features:  *H...   \n",
       "69  This welcoming home is in the quiet residentia...   \n",
       "\n",
       "                                 descricao_vizinhanca quantidade_banheiros  \\\n",
       "0   Lower Queen Anne is near the Seattle Center (s...                    1   \n",
       "0   Upper Queen Anne is a really pleasant, unique ...                    1   \n",
       "0   The convenience of being in Seattle but on the...                    1   \n",
       "0   Ballard is lovely, vibrant and one of the most...                    1   \n",
       "0                                                  --                    1   \n",
       "..                                                ...                  ...   \n",
       "68                                                 --                    3   \n",
       "68  Quiet, dead end street near I-5. The proximity...                    2   \n",
       "68                                                 --                    1   \n",
       "69  Your hosts made Madison Valley their home when...                    2   \n",
       "69  Despite the quiet, leafy streets of this resid...                    1   \n",
       "\n",
       "   quantidade_quartos quantidade_camas    modelo_cama  \\\n",
       "0                   1                1       Real Bed   \n",
       "0                   1                1          Futon   \n",
       "0                   1                1          Futon   \n",
       "0                   1                1  Pull-out Sofa   \n",
       "0                   1                1       Real Bed   \n",
       "..                ...              ...            ...   \n",
       "68                  4                5       Real Bed   \n",
       "68                  4                4       Real Bed   \n",
       "68                  3                4       Real Bed   \n",
       "69                  3                6       Real Bed   \n",
       "69                  4                6       Real Bed   \n",
       "\n",
       "                                          comodidades taxa_deposito  \\\n",
       "0   {Internet,\"Wireless Internet\",Kitchen,\"Free Pa...            $0   \n",
       "0   {TV,Internet,\"Wireless Internet\",Kitchen,\"Free...            $0   \n",
       "0   {TV,Internet,\"Wireless Internet\",Kitchen,\"Free...            $0   \n",
       "0   {Internet,\"Wireless Internet\",Kitchen,\"Free Pa...            $0   \n",
       "0   {\"Wireless Internet\",Kitchen,\"Free Parking on ...            $0   \n",
       "..                                                ...           ...   \n",
       "68  {TV,\"Cable TV\",Internet,\"Wireless Internet\",\"A...     $1,000.00   \n",
       "68  {TV,\"Cable TV\",Internet,\"Wireless Internet\",Ki...            $0   \n",
       "68  {TV,\"Cable TV\",Internet,\"Wireless Internet\",\"A...            $0   \n",
       "69  {TV,\"Cable TV\",Internet,\"Wireless Internet\",\"A...     $1,000.00   \n",
       "69  {TV,Internet,\"Wireless Internet\",Kitchen,\"Free...       $500.00   \n",
       "\n",
       "   taxa_limpeza    preco  \n",
       "0            $0  $110.00  \n",
       "0            $0   $45.00  \n",
       "0            $0   $55.00  \n",
       "0        $20.00   $52.00  \n",
       "0        $15.00   $85.00  \n",
       "..          ...      ...  \n",
       "68      $178.00  $299.00  \n",
       "68       $99.00  $199.00  \n",
       "68           $0  $400.00  \n",
       "69      $150.00  $250.00  \n",
       "69           $0  $350.00  \n",
       "\n",
       "[3818 rows x 13 columns]"
      ]
     },
     "execution_count": 7,
     "metadata": {},
     "output_type": "execute_result"
    }
   ],
   "source": [
    "dados = dados.explode(colunas[3:])\n",
    "dados"
   ]
  },
  {
   "cell_type": "code",
   "execution_count": 8,
   "metadata": {},
   "outputs": [
    {
     "data": {
      "text/html": [
       "<div>\n",
       "<style scoped>\n",
       "    .dataframe tbody tr th:only-of-type {\n",
       "        vertical-align: middle;\n",
       "    }\n",
       "\n",
       "    .dataframe tbody tr th {\n",
       "        vertical-align: top;\n",
       "    }\n",
       "\n",
       "    .dataframe thead th {\n",
       "        text-align: right;\n",
       "    }\n",
       "</style>\n",
       "<table border=\"1\" class=\"dataframe\">\n",
       "  <thead>\n",
       "    <tr style=\"text-align: right;\">\n",
       "      <th></th>\n",
       "      <th>avaliacao_geral</th>\n",
       "      <th>experiencia_local</th>\n",
       "      <th>max_hospedes</th>\n",
       "      <th>descricao_local</th>\n",
       "      <th>descricao_vizinhanca</th>\n",
       "      <th>quantidade_banheiros</th>\n",
       "      <th>quantidade_quartos</th>\n",
       "      <th>quantidade_camas</th>\n",
       "      <th>modelo_cama</th>\n",
       "      <th>comodidades</th>\n",
       "      <th>taxa_deposito</th>\n",
       "      <th>taxa_limpeza</th>\n",
       "      <th>preco</th>\n",
       "    </tr>\n",
       "  </thead>\n",
       "  <tbody>\n",
       "    <tr>\n",
       "      <th>0</th>\n",
       "      <td>10.0</td>\n",
       "      <td>--</td>\n",
       "      <td>1</td>\n",
       "      <td>This clean and comfortable one bedroom sits ri...</td>\n",
       "      <td>Lower Queen Anne is near the Seattle Center (s...</td>\n",
       "      <td>1</td>\n",
       "      <td>1</td>\n",
       "      <td>1</td>\n",
       "      <td>Real Bed</td>\n",
       "      <td>{Internet,\"Wireless Internet\",Kitchen,\"Free Pa...</td>\n",
       "      <td>$0</td>\n",
       "      <td>$0</td>\n",
       "      <td>$110.00</td>\n",
       "    </tr>\n",
       "    <tr>\n",
       "      <th>1</th>\n",
       "      <td>10.0</td>\n",
       "      <td>--</td>\n",
       "      <td>1</td>\n",
       "      <td>Our century old Upper Queen Anne house is loca...</td>\n",
       "      <td>Upper Queen Anne is a really pleasant, unique ...</td>\n",
       "      <td>1</td>\n",
       "      <td>1</td>\n",
       "      <td>1</td>\n",
       "      <td>Futon</td>\n",
       "      <td>{TV,Internet,\"Wireless Internet\",Kitchen,\"Free...</td>\n",
       "      <td>$0</td>\n",
       "      <td>$0</td>\n",
       "      <td>$45.00</td>\n",
       "    </tr>\n",
       "    <tr>\n",
       "      <th>2</th>\n",
       "      <td>10.0</td>\n",
       "      <td>--</td>\n",
       "      <td>1</td>\n",
       "      <td>Cozy room in two-bedroom apartment along the l...</td>\n",
       "      <td>The convenience of being in Seattle but on the...</td>\n",
       "      <td>1</td>\n",
       "      <td>1</td>\n",
       "      <td>1</td>\n",
       "      <td>Futon</td>\n",
       "      <td>{TV,Internet,\"Wireless Internet\",Kitchen,\"Free...</td>\n",
       "      <td>$0</td>\n",
       "      <td>$0</td>\n",
       "      <td>$55.00</td>\n",
       "    </tr>\n",
       "    <tr>\n",
       "      <th>3</th>\n",
       "      <td>10.0</td>\n",
       "      <td>--</td>\n",
       "      <td>1</td>\n",
       "      <td>Very lovely and cozy room for one. Convenientl...</td>\n",
       "      <td>Ballard is lovely, vibrant and one of the most...</td>\n",
       "      <td>1</td>\n",
       "      <td>1</td>\n",
       "      <td>1</td>\n",
       "      <td>Pull-out Sofa</td>\n",
       "      <td>{Internet,\"Wireless Internet\",Kitchen,\"Free Pa...</td>\n",
       "      <td>$0</td>\n",
       "      <td>$20.00</td>\n",
       "      <td>$52.00</td>\n",
       "    </tr>\n",
       "    <tr>\n",
       "      <th>4</th>\n",
       "      <td>10.0</td>\n",
       "      <td>--</td>\n",
       "      <td>1</td>\n",
       "      <td>The “Studio at Mibbett Hollow' is in a Beautif...</td>\n",
       "      <td>--</td>\n",
       "      <td>1</td>\n",
       "      <td>1</td>\n",
       "      <td>1</td>\n",
       "      <td>Real Bed</td>\n",
       "      <td>{\"Wireless Internet\",Kitchen,\"Free Parking on ...</td>\n",
       "      <td>$0</td>\n",
       "      <td>$15.00</td>\n",
       "      <td>$85.00</td>\n",
       "    </tr>\n",
       "  </tbody>\n",
       "</table>\n",
       "</div>"
      ],
      "text/plain": [
       "  avaliacao_geral experiencia_local max_hospedes  \\\n",
       "0            10.0                --            1   \n",
       "1            10.0                --            1   \n",
       "2            10.0                --            1   \n",
       "3            10.0                --            1   \n",
       "4            10.0                --            1   \n",
       "\n",
       "                                     descricao_local  \\\n",
       "0  This clean and comfortable one bedroom sits ri...   \n",
       "1  Our century old Upper Queen Anne house is loca...   \n",
       "2  Cozy room in two-bedroom apartment along the l...   \n",
       "3  Very lovely and cozy room for one. Convenientl...   \n",
       "4  The “Studio at Mibbett Hollow' is in a Beautif...   \n",
       "\n",
       "                                descricao_vizinhanca quantidade_banheiros  \\\n",
       "0  Lower Queen Anne is near the Seattle Center (s...                    1   \n",
       "1  Upper Queen Anne is a really pleasant, unique ...                    1   \n",
       "2  The convenience of being in Seattle but on the...                    1   \n",
       "3  Ballard is lovely, vibrant and one of the most...                    1   \n",
       "4                                                 --                    1   \n",
       "\n",
       "  quantidade_quartos quantidade_camas    modelo_cama  \\\n",
       "0                  1                1       Real Bed   \n",
       "1                  1                1          Futon   \n",
       "2                  1                1          Futon   \n",
       "3                  1                1  Pull-out Sofa   \n",
       "4                  1                1       Real Bed   \n",
       "\n",
       "                                         comodidades taxa_deposito  \\\n",
       "0  {Internet,\"Wireless Internet\",Kitchen,\"Free Pa...            $0   \n",
       "1  {TV,Internet,\"Wireless Internet\",Kitchen,\"Free...            $0   \n",
       "2  {TV,Internet,\"Wireless Internet\",Kitchen,\"Free...            $0   \n",
       "3  {Internet,\"Wireless Internet\",Kitchen,\"Free Pa...            $0   \n",
       "4  {\"Wireless Internet\",Kitchen,\"Free Parking on ...            $0   \n",
       "\n",
       "  taxa_limpeza    preco  \n",
       "0           $0  $110.00  \n",
       "1           $0   $45.00  \n",
       "2           $0   $55.00  \n",
       "3       $20.00   $52.00  \n",
       "4       $15.00   $85.00  "
      ]
     },
     "execution_count": 8,
     "metadata": {},
     "output_type": "execute_result"
    }
   ],
   "source": [
    "dados.reset_index(inplace = True, drop = True)\n",
    "dados.head()"
   ]
  },
  {
   "cell_type": "code",
   "execution_count": 9,
   "metadata": {},
   "outputs": [
    {
     "name": "stdout",
     "output_type": "stream",
     "text": [
      "<class 'pandas.core.frame.DataFrame'>\n",
      "RangeIndex: 3818 entries, 0 to 3817\n",
      "Data columns (total 13 columns):\n",
      " #   Column                Non-Null Count  Dtype \n",
      "---  ------                --------------  ----- \n",
      " 0   avaliacao_geral       3818 non-null   object\n",
      " 1   experiencia_local     3818 non-null   object\n",
      " 2   max_hospedes          3818 non-null   object\n",
      " 3   descricao_local       3818 non-null   object\n",
      " 4   descricao_vizinhanca  3818 non-null   object\n",
      " 5   quantidade_banheiros  3818 non-null   object\n",
      " 6   quantidade_quartos    3818 non-null   object\n",
      " 7   quantidade_camas      3818 non-null   object\n",
      " 8   modelo_cama           3818 non-null   object\n",
      " 9   comodidades           3818 non-null   object\n",
      " 10  taxa_deposito         3818 non-null   object\n",
      " 11  taxa_limpeza          3818 non-null   object\n",
      " 12  preco                 3818 non-null   object\n",
      "dtypes: object(13)\n",
      "memory usage: 387.9+ KB\n"
     ]
    }
   ],
   "source": [
    "dados.info()"
   ]
  },
  {
   "cell_type": "markdown",
   "metadata": {},
   "source": [
    "As colunas continuam como tipo 'object'"
   ]
  },
  {
   "cell_type": "markdown",
   "metadata": {},
   "source": [
    "## Convertendo os dados numéricos"
   ]
  },
  {
   "cell_type": "code",
   "execution_count": 10,
   "metadata": {},
   "outputs": [
    {
     "data": {
      "text/plain": [
       "0       1\n",
       "1       1\n",
       "2       1\n",
       "3       1\n",
       "4       1\n",
       "       ..\n",
       "3813    8\n",
       "3814    8\n",
       "3815    8\n",
       "3816    9\n",
       "3817    9\n",
       "Name: max_hospedes, Length: 3818, dtype: int64"
      ]
     },
     "execution_count": 10,
     "metadata": {},
     "output_type": "execute_result"
    }
   ],
   "source": [
    "dados['max_hospedes'] = dados['max_hospedes'].astype(np.int64)\n",
    "dados['max_hospedes']"
   ]
  },
  {
   "cell_type": "code",
   "execution_count": 11,
   "metadata": {},
   "outputs": [],
   "source": [
    "col_numericas = ['quantidade_banheiros', 'quantidade_quartos', 'quantidade_camas']"
   ]
  },
  {
   "cell_type": "code",
   "execution_count": 12,
   "metadata": {},
   "outputs": [],
   "source": [
    "dados[col_numericas] = dados[col_numericas].astype(np.int64)"
   ]
  },
  {
   "cell_type": "code",
   "execution_count": 13,
   "metadata": {},
   "outputs": [],
   "source": [
    "dados['avaliacao_geral'] = dados['avaliacao_geral'].astype(np.float64)"
   ]
  },
  {
   "cell_type": "code",
   "execution_count": 14,
   "metadata": {},
   "outputs": [
    {
     "name": "stdout",
     "output_type": "stream",
     "text": [
      "<class 'pandas.core.frame.DataFrame'>\n",
      "RangeIndex: 3818 entries, 0 to 3817\n",
      "Data columns (total 13 columns):\n",
      " #   Column                Non-Null Count  Dtype  \n",
      "---  ------                --------------  -----  \n",
      " 0   avaliacao_geral       3162 non-null   float64\n",
      " 1   experiencia_local     3818 non-null   object \n",
      " 2   max_hospedes          3818 non-null   int64  \n",
      " 3   descricao_local       3818 non-null   object \n",
      " 4   descricao_vizinhanca  3818 non-null   object \n",
      " 5   quantidade_banheiros  3818 non-null   int64  \n",
      " 6   quantidade_quartos    3818 non-null   int64  \n",
      " 7   quantidade_camas      3818 non-null   int64  \n",
      " 8   modelo_cama           3818 non-null   object \n",
      " 9   comodidades           3818 non-null   object \n",
      " 10  taxa_deposito         3818 non-null   object \n",
      " 11  taxa_limpeza          3818 non-null   object \n",
      " 12  preco                 3818 non-null   object \n",
      "dtypes: float64(1), int64(4), object(8)\n",
      "memory usage: 387.9+ KB\n"
     ]
    }
   ],
   "source": [
    "dados.info()"
   ]
  },
  {
   "cell_type": "code",
   "execution_count": 15,
   "metadata": {},
   "outputs": [
    {
     "data": {
      "text/plain": [
       "0       $110.00\n",
       "1        $45.00\n",
       "2        $55.00\n",
       "3        $52.00\n",
       "4        $85.00\n",
       "         ...   \n",
       "3813    $299.00\n",
       "3814    $199.00\n",
       "3815    $400.00\n",
       "3816    $250.00\n",
       "3817    $350.00\n",
       "Name: preco, Length: 3818, dtype: object"
      ]
     },
     "execution_count": 15,
     "metadata": {},
     "output_type": "execute_result"
    }
   ],
   "source": [
    "dados['preco']"
   ]
  },
  {
   "cell_type": "markdown",
   "metadata": {},
   "source": [
    "## Números em strings"
   ]
  },
  {
   "cell_type": "code",
   "execution_count": 16,
   "metadata": {},
   "outputs": [
    {
     "data": {
      "text/plain": [
       "0       110.00\n",
       "1        45.00\n",
       "2        55.00\n",
       "3        52.00\n",
       "4        85.00\n",
       "         ...  \n",
       "3813    299.00\n",
       "3814    199.00\n",
       "3815    400.00\n",
       "3816    250.00\n",
       "3817    350.00\n",
       "Name: preco, Length: 3818, dtype: object"
      ]
     },
     "execution_count": 16,
     "metadata": {},
     "output_type": "execute_result"
    }
   ],
   "source": [
    "dados['preco'].apply(lambda x: x.replace('$', '').replace(',','').strip())"
   ]
  },
  {
   "cell_type": "code",
   "execution_count": 17,
   "metadata": {},
   "outputs": [],
   "source": [
    "dados['preco'] = dados['preco'].apply(lambda x: x.replace('$', '').replace(',','').strip())"
   ]
  },
  {
   "cell_type": "code",
   "execution_count": 18,
   "metadata": {},
   "outputs": [],
   "source": [
    "dados['preco'] = dados['preco'].astype(np.float64)"
   ]
  },
  {
   "cell_type": "code",
   "execution_count": 19,
   "metadata": {},
   "outputs": [
    {
     "name": "stdout",
     "output_type": "stream",
     "text": [
      "<class 'pandas.core.frame.DataFrame'>\n",
      "RangeIndex: 3818 entries, 0 to 3817\n",
      "Data columns (total 13 columns):\n",
      " #   Column                Non-Null Count  Dtype  \n",
      "---  ------                --------------  -----  \n",
      " 0   avaliacao_geral       3162 non-null   float64\n",
      " 1   experiencia_local     3818 non-null   object \n",
      " 2   max_hospedes          3818 non-null   int64  \n",
      " 3   descricao_local       3818 non-null   object \n",
      " 4   descricao_vizinhanca  3818 non-null   object \n",
      " 5   quantidade_banheiros  3818 non-null   int64  \n",
      " 6   quantidade_quartos    3818 non-null   int64  \n",
      " 7   quantidade_camas      3818 non-null   int64  \n",
      " 8   modelo_cama           3818 non-null   object \n",
      " 9   comodidades           3818 non-null   object \n",
      " 10  taxa_deposito         3818 non-null   object \n",
      " 11  taxa_limpeza          3818 non-null   object \n",
      " 12  preco                 3818 non-null   float64\n",
      "dtypes: float64(2), int64(4), object(7)\n",
      "memory usage: 387.9+ KB\n"
     ]
    }
   ],
   "source": [
    "dados.info()"
   ]
  },
  {
   "cell_type": "markdown",
   "metadata": {},
   "source": [
    "## Transformação em múltiplas colunas"
   ]
  },
  {
   "cell_type": "code",
   "execution_count": 20,
   "metadata": {},
   "outputs": [
    {
     "data": {
      "text/html": [
       "<div>\n",
       "<style scoped>\n",
       "    .dataframe tbody tr th:only-of-type {\n",
       "        vertical-align: middle;\n",
       "    }\n",
       "\n",
       "    .dataframe tbody tr th {\n",
       "        vertical-align: top;\n",
       "    }\n",
       "\n",
       "    .dataframe thead th {\n",
       "        text-align: right;\n",
       "    }\n",
       "</style>\n",
       "<table border=\"1\" class=\"dataframe\">\n",
       "  <thead>\n",
       "    <tr style=\"text-align: right;\">\n",
       "      <th></th>\n",
       "      <th>taxa_deposito</th>\n",
       "      <th>taxa_limpeza</th>\n",
       "    </tr>\n",
       "  </thead>\n",
       "  <tbody>\n",
       "    <tr>\n",
       "      <th>0</th>\n",
       "      <td>$0</td>\n",
       "      <td>$0</td>\n",
       "    </tr>\n",
       "    <tr>\n",
       "      <th>1</th>\n",
       "      <td>$0</td>\n",
       "      <td>$0</td>\n",
       "    </tr>\n",
       "    <tr>\n",
       "      <th>2</th>\n",
       "      <td>$0</td>\n",
       "      <td>$0</td>\n",
       "    </tr>\n",
       "    <tr>\n",
       "      <th>3</th>\n",
       "      <td>$0</td>\n",
       "      <td>$20.00</td>\n",
       "    </tr>\n",
       "    <tr>\n",
       "      <th>4</th>\n",
       "      <td>$0</td>\n",
       "      <td>$15.00</td>\n",
       "    </tr>\n",
       "    <tr>\n",
       "      <th>...</th>\n",
       "      <td>...</td>\n",
       "      <td>...</td>\n",
       "    </tr>\n",
       "    <tr>\n",
       "      <th>3813</th>\n",
       "      <td>$1,000.00</td>\n",
       "      <td>$178.00</td>\n",
       "    </tr>\n",
       "    <tr>\n",
       "      <th>3814</th>\n",
       "      <td>$0</td>\n",
       "      <td>$99.00</td>\n",
       "    </tr>\n",
       "    <tr>\n",
       "      <th>3815</th>\n",
       "      <td>$0</td>\n",
       "      <td>$0</td>\n",
       "    </tr>\n",
       "    <tr>\n",
       "      <th>3816</th>\n",
       "      <td>$1,000.00</td>\n",
       "      <td>$150.00</td>\n",
       "    </tr>\n",
       "    <tr>\n",
       "      <th>3817</th>\n",
       "      <td>$500.00</td>\n",
       "      <td>$0</td>\n",
       "    </tr>\n",
       "  </tbody>\n",
       "</table>\n",
       "<p>3818 rows × 2 columns</p>\n",
       "</div>"
      ],
      "text/plain": [
       "     taxa_deposito taxa_limpeza\n",
       "0               $0           $0\n",
       "1               $0           $0\n",
       "2               $0           $0\n",
       "3               $0       $20.00\n",
       "4               $0       $15.00\n",
       "...            ...          ...\n",
       "3813     $1,000.00      $178.00\n",
       "3814            $0       $99.00\n",
       "3815            $0           $0\n",
       "3816     $1,000.00      $150.00\n",
       "3817       $500.00           $0\n",
       "\n",
       "[3818 rows x 2 columns]"
      ]
     },
     "execution_count": 20,
     "metadata": {},
     "output_type": "execute_result"
    }
   ],
   "source": [
    "dados[['taxa_deposito', 'taxa_limpeza']]"
   ]
  },
  {
   "cell_type": "markdown",
   "metadata": {},
   "source": [
    "Parenteses: seria possível usar o apply com lambda em cada coluna separadamente, mas agora vamos aprender a usar o applymap, que pode ser utilizado em um data frame inteiro; no caso vamos tratar as duas colunas como dataframe"
   ]
  },
  {
   "cell_type": "code",
   "execution_count": 21,
   "metadata": {},
   "outputs": [],
   "source": [
    "dados[['taxa_deposito', 'taxa_limpeza']] = dados[['taxa_deposito', 'taxa_limpeza']].applymap(lambda x: x.replace('$','').replace(',','').strip())"
   ]
  },
  {
   "cell_type": "code",
   "execution_count": 22,
   "metadata": {},
   "outputs": [],
   "source": [
    "dados[['taxa_deposito', 'taxa_limpeza']] = dados[['taxa_deposito', 'taxa_limpeza']].astype(np.float64)"
   ]
  },
  {
   "cell_type": "code",
   "execution_count": 23,
   "metadata": {},
   "outputs": [
    {
     "name": "stdout",
     "output_type": "stream",
     "text": [
      "<class 'pandas.core.frame.DataFrame'>\n",
      "RangeIndex: 3818 entries, 0 to 3817\n",
      "Data columns (total 13 columns):\n",
      " #   Column                Non-Null Count  Dtype  \n",
      "---  ------                --------------  -----  \n",
      " 0   avaliacao_geral       3162 non-null   float64\n",
      " 1   experiencia_local     3818 non-null   object \n",
      " 2   max_hospedes          3818 non-null   int64  \n",
      " 3   descricao_local       3818 non-null   object \n",
      " 4   descricao_vizinhanca  3818 non-null   object \n",
      " 5   quantidade_banheiros  3818 non-null   int64  \n",
      " 6   quantidade_quartos    3818 non-null   int64  \n",
      " 7   quantidade_camas      3818 non-null   int64  \n",
      " 8   modelo_cama           3818 non-null   object \n",
      " 9   comodidades           3818 non-null   object \n",
      " 10  taxa_deposito         3818 non-null   float64\n",
      " 11  taxa_limpeza          3818 non-null   float64\n",
      " 12  preco                 3818 non-null   float64\n",
      "dtypes: float64(4), int64(4), object(5)\n",
      "memory usage: 387.9+ KB\n"
     ]
    }
   ],
   "source": [
    "dados.info()"
   ]
  },
  {
   "cell_type": "markdown",
   "metadata": {},
   "source": [
    "# Dados textuais\n",
    "## O problema do texto"
   ]
  },
  {
   "cell_type": "code",
   "execution_count": 24,
   "metadata": {},
   "outputs": [
    {
     "data": {
      "text/plain": [
       "0       This clean and comfortable one bedroom sits ri...\n",
       "1       Our century old Upper Queen Anne house is loca...\n",
       "2       Cozy room in two-bedroom apartment along the l...\n",
       "3       Very lovely and cozy room for one. Convenientl...\n",
       "4       The “Studio at Mibbett Hollow' is in a Beautif...\n",
       "                              ...                        \n",
       "3813    Beautiful craftsman home in the historic Wedgw...\n",
       "3814    Located in a very easily accessible area of Se...\n",
       "3815    This home is fully furnished and available wee...\n",
       "3816    This business-themed modern home features:  *H...\n",
       "3817    This welcoming home is in the quiet residentia...\n",
       "Name: descricao_local, Length: 3818, dtype: object"
      ]
     },
     "execution_count": 24,
     "metadata": {},
     "output_type": "execute_result"
    }
   ],
   "source": [
    "dados['descricao_local']"
   ]
  },
  {
   "cell_type": "code",
   "execution_count": 25,
   "metadata": {},
   "outputs": [],
   "source": [
    "dados['descricao_local'] = dados['descricao_local'].str.lower()"
   ]
  },
  {
   "cell_type": "markdown",
   "metadata": {},
   "source": [
    "## Removendo caracteres com regex"
   ]
  },
  {
   "cell_type": "code",
   "execution_count": 26,
   "metadata": {},
   "outputs": [
    {
     "data": {
      "text/plain": [
       "'please instant book only if you are a total nonsmoker and like living with 1 large friendly loving dog.  value packed house, pine twin bed, with new sheets, shared bath, free snacks, in wonderful clean home! check out the reviews!! before you do instant book, please know the house of light is smoke -free! nonsmokers only!!  a very large friendly dog lives in the house.  she loves everyone. please only book if you are comfortable and enjoy being around large loving dogs. please do not book if you smoke.  love light and bright colors? welcome to the bunny room and the house of light! tons of light! high ceilings in foyer and family room! tons of extras! new sheets! perfect for 1 person! free daily breakfast and free snacks! need space for 1-2 more people? consider also renting the serene room, my other listing, and i will make you a good deal on both rooms! this light-filled home is located only 25 minutes by car from center seattle, and 25-30 minutes by bus.  the bus stop is located 3 b'"
      ]
     },
     "execution_count": 26,
     "metadata": {},
     "output_type": "execute_result"
    }
   ],
   "source": [
    "dados['descricao_local'][42]"
   ]
  },
  {
   "cell_type": "code",
   "execution_count": 27,
   "metadata": {},
   "outputs": [],
   "source": [
    "dados['descricao_local'] = dados['descricao_local'].str.replace('[^a-zA-Z0-9\\-\\']', ' ', regex = True)"
   ]
  },
  {
   "cell_type": "code",
   "execution_count": 28,
   "metadata": {},
   "outputs": [
    {
     "data": {
      "text/plain": [
       "'please instant book only if you are a total nonsmoker and like living with 1 large friendly loving dog   value packed house  pine twin bed  with new sheets  shared bath  free snacks  in wonderful clean home  check out the reviews   before you do instant book  please know the house of light is smoke -free  nonsmokers only    a very large friendly dog lives in the house   she loves everyone  please only book if you are comfortable and enjoy being around large loving dogs  please do not book if you smoke   love light and bright colors  welcome to the bunny room and the house of light  tons of light  high ceilings in foyer and family room  tons of extras  new sheets  perfect for 1 person  free daily breakfast and free snacks  need space for 1-2 more people  consider also renting the serene room  my other listing  and i will make you a good deal on both rooms  this light-filled home is located only 25 minutes by car from center seattle  and 25-30 minutes by bus   the bus stop is located 3 b'"
      ]
     },
     "execution_count": 28,
     "metadata": {},
     "output_type": "execute_result"
    }
   ],
   "source": [
    "dados['descricao_local'][42]"
   ]
  },
  {
   "cell_type": "code",
   "execution_count": 29,
   "metadata": {},
   "outputs": [],
   "source": [
    "dados['descricao_local'] = dados['descricao_local'].str.replace('(?<!\\w)-(?!\\w)', ' ', regex = True)"
   ]
  },
  {
   "cell_type": "code",
   "execution_count": 30,
   "metadata": {},
   "outputs": [
    {
     "data": {
      "text/plain": [
       "'please instant book only if you are a total nonsmoker and like living with 1 large friendly loving dog   value packed house  pine twin bed  with new sheets  shared bath  free snacks  in wonderful clean home  check out the reviews   before you do instant book  please know the house of light is smoke -free  nonsmokers only    a very large friendly dog lives in the house   she loves everyone  please only book if you are comfortable and enjoy being around large loving dogs  please do not book if you smoke   love light and bright colors  welcome to the bunny room and the house of light  tons of light  high ceilings in foyer and family room  tons of extras  new sheets  perfect for 1 person  free daily breakfast and free snacks  need space for 1-2 more people  consider also renting the serene room  my other listing  and i will make you a good deal on both rooms  this light-filled home is located only 25 minutes by car from center seattle  and 25-30 minutes by bus   the bus stop is located 3 b'"
      ]
     },
     "execution_count": 30,
     "metadata": {},
     "output_type": "execute_result"
    }
   ],
   "source": [
    "dados['descricao_local'][42]"
   ]
  },
  {
   "cell_type": "markdown",
   "metadata": {},
   "source": [
    "## Tokenização de strings"
   ]
  },
  {
   "cell_type": "code",
   "execution_count": 31,
   "metadata": {},
   "outputs": [],
   "source": [
    "dados['descricao_local'] = dados['descricao_local'].str.split()"
   ]
  },
  {
   "cell_type": "code",
   "execution_count": 32,
   "metadata": {},
   "outputs": [
    {
     "data": {
      "text/html": [
       "<div>\n",
       "<style scoped>\n",
       "    .dataframe tbody tr th:only-of-type {\n",
       "        vertical-align: middle;\n",
       "    }\n",
       "\n",
       "    .dataframe tbody tr th {\n",
       "        vertical-align: top;\n",
       "    }\n",
       "\n",
       "    .dataframe thead th {\n",
       "        text-align: right;\n",
       "    }\n",
       "</style>\n",
       "<table border=\"1\" class=\"dataframe\">\n",
       "  <thead>\n",
       "    <tr style=\"text-align: right;\">\n",
       "      <th></th>\n",
       "      <th>avaliacao_geral</th>\n",
       "      <th>experiencia_local</th>\n",
       "      <th>max_hospedes</th>\n",
       "      <th>descricao_local</th>\n",
       "      <th>descricao_vizinhanca</th>\n",
       "      <th>quantidade_banheiros</th>\n",
       "      <th>quantidade_quartos</th>\n",
       "      <th>quantidade_camas</th>\n",
       "      <th>modelo_cama</th>\n",
       "      <th>comodidades</th>\n",
       "      <th>taxa_deposito</th>\n",
       "      <th>taxa_limpeza</th>\n",
       "      <th>preco</th>\n",
       "    </tr>\n",
       "  </thead>\n",
       "  <tbody>\n",
       "    <tr>\n",
       "      <th>0</th>\n",
       "      <td>10.0</td>\n",
       "      <td>--</td>\n",
       "      <td>1</td>\n",
       "      <td>[this, clean, and, comfortable, one, bedroom, ...</td>\n",
       "      <td>Lower Queen Anne is near the Seattle Center (s...</td>\n",
       "      <td>1</td>\n",
       "      <td>1</td>\n",
       "      <td>1</td>\n",
       "      <td>Real Bed</td>\n",
       "      <td>{Internet,\"Wireless Internet\",Kitchen,\"Free Pa...</td>\n",
       "      <td>0.0</td>\n",
       "      <td>0.0</td>\n",
       "      <td>110.0</td>\n",
       "    </tr>\n",
       "    <tr>\n",
       "      <th>1</th>\n",
       "      <td>10.0</td>\n",
       "      <td>--</td>\n",
       "      <td>1</td>\n",
       "      <td>[our, century, old, upper, queen, anne, house,...</td>\n",
       "      <td>Upper Queen Anne is a really pleasant, unique ...</td>\n",
       "      <td>1</td>\n",
       "      <td>1</td>\n",
       "      <td>1</td>\n",
       "      <td>Futon</td>\n",
       "      <td>{TV,Internet,\"Wireless Internet\",Kitchen,\"Free...</td>\n",
       "      <td>0.0</td>\n",
       "      <td>0.0</td>\n",
       "      <td>45.0</td>\n",
       "    </tr>\n",
       "    <tr>\n",
       "      <th>2</th>\n",
       "      <td>10.0</td>\n",
       "      <td>--</td>\n",
       "      <td>1</td>\n",
       "      <td>[cozy, room, in, two-bedroom, apartment, along...</td>\n",
       "      <td>The convenience of being in Seattle but on the...</td>\n",
       "      <td>1</td>\n",
       "      <td>1</td>\n",
       "      <td>1</td>\n",
       "      <td>Futon</td>\n",
       "      <td>{TV,Internet,\"Wireless Internet\",Kitchen,\"Free...</td>\n",
       "      <td>0.0</td>\n",
       "      <td>0.0</td>\n",
       "      <td>55.0</td>\n",
       "    </tr>\n",
       "    <tr>\n",
       "      <th>3</th>\n",
       "      <td>10.0</td>\n",
       "      <td>--</td>\n",
       "      <td>1</td>\n",
       "      <td>[very, lovely, and, cozy, room, for, one, conv...</td>\n",
       "      <td>Ballard is lovely, vibrant and one of the most...</td>\n",
       "      <td>1</td>\n",
       "      <td>1</td>\n",
       "      <td>1</td>\n",
       "      <td>Pull-out Sofa</td>\n",
       "      <td>{Internet,\"Wireless Internet\",Kitchen,\"Free Pa...</td>\n",
       "      <td>0.0</td>\n",
       "      <td>20.0</td>\n",
       "      <td>52.0</td>\n",
       "    </tr>\n",
       "    <tr>\n",
       "      <th>4</th>\n",
       "      <td>10.0</td>\n",
       "      <td>--</td>\n",
       "      <td>1</td>\n",
       "      <td>[the, studio, at, mibbett, hollow', is, in, a,...</td>\n",
       "      <td>--</td>\n",
       "      <td>1</td>\n",
       "      <td>1</td>\n",
       "      <td>1</td>\n",
       "      <td>Real Bed</td>\n",
       "      <td>{\"Wireless Internet\",Kitchen,\"Free Parking on ...</td>\n",
       "      <td>0.0</td>\n",
       "      <td>15.0</td>\n",
       "      <td>85.0</td>\n",
       "    </tr>\n",
       "  </tbody>\n",
       "</table>\n",
       "</div>"
      ],
      "text/plain": [
       "   avaliacao_geral experiencia_local  max_hospedes  \\\n",
       "0             10.0                --             1   \n",
       "1             10.0                --             1   \n",
       "2             10.0                --             1   \n",
       "3             10.0                --             1   \n",
       "4             10.0                --             1   \n",
       "\n",
       "                                     descricao_local  \\\n",
       "0  [this, clean, and, comfortable, one, bedroom, ...   \n",
       "1  [our, century, old, upper, queen, anne, house,...   \n",
       "2  [cozy, room, in, two-bedroom, apartment, along...   \n",
       "3  [very, lovely, and, cozy, room, for, one, conv...   \n",
       "4  [the, studio, at, mibbett, hollow', is, in, a,...   \n",
       "\n",
       "                                descricao_vizinhanca  quantidade_banheiros  \\\n",
       "0  Lower Queen Anne is near the Seattle Center (s...                     1   \n",
       "1  Upper Queen Anne is a really pleasant, unique ...                     1   \n",
       "2  The convenience of being in Seattle but on the...                     1   \n",
       "3  Ballard is lovely, vibrant and one of the most...                     1   \n",
       "4                                                 --                     1   \n",
       "\n",
       "   quantidade_quartos  quantidade_camas    modelo_cama  \\\n",
       "0                   1                 1       Real Bed   \n",
       "1                   1                 1          Futon   \n",
       "2                   1                 1          Futon   \n",
       "3                   1                 1  Pull-out Sofa   \n",
       "4                   1                 1       Real Bed   \n",
       "\n",
       "                                         comodidades  taxa_deposito  \\\n",
       "0  {Internet,\"Wireless Internet\",Kitchen,\"Free Pa...            0.0   \n",
       "1  {TV,Internet,\"Wireless Internet\",Kitchen,\"Free...            0.0   \n",
       "2  {TV,Internet,\"Wireless Internet\",Kitchen,\"Free...            0.0   \n",
       "3  {Internet,\"Wireless Internet\",Kitchen,\"Free Pa...            0.0   \n",
       "4  {\"Wireless Internet\",Kitchen,\"Free Parking on ...            0.0   \n",
       "\n",
       "   taxa_limpeza  preco  \n",
       "0           0.0  110.0  \n",
       "1           0.0   45.0  \n",
       "2           0.0   55.0  \n",
       "3          20.0   52.0  \n",
       "4          15.0   85.0  "
      ]
     },
     "execution_count": 32,
     "metadata": {},
     "output_type": "execute_result"
    }
   ],
   "source": [
    "dados.head()"
   ]
  },
  {
   "cell_type": "code",
   "execution_count": 33,
   "metadata": {},
   "outputs": [
    {
     "data": {
      "text/plain": [
       "0       Internet,Wireless Internet,Kitchen,Free Parkin...\n",
       "1       TV,Internet,Wireless Internet,Kitchen,Free Par...\n",
       "2       TV,Internet,Wireless Internet,Kitchen,Free Par...\n",
       "3       Internet,Wireless Internet,Kitchen,Free Parkin...\n",
       "4       Wireless Internet,Kitchen,Free Parking on Prem...\n",
       "                              ...                        \n",
       "3813    TV,Cable TV,Internet,Wireless Internet,Air Con...\n",
       "3814    TV,Cable TV,Internet,Wireless Internet,Kitchen...\n",
       "3815    TV,Cable TV,Internet,Wireless Internet,Air Con...\n",
       "3816    TV,Cable TV,Internet,Wireless Internet,Air Con...\n",
       "3817    TV,Internet,Wireless Internet,Kitchen,Free Par...\n",
       "Name: comodidades, Length: 3818, dtype: object"
      ]
     },
     "execution_count": 33,
     "metadata": {},
     "output_type": "execute_result"
    }
   ],
   "source": [
    "dados['comodidades'] = dados['comodidades'].str.replace('\\{|}|\\\"','', regex = True)\n",
    "dados['comodidades']"
   ]
  },
  {
   "cell_type": "code",
   "execution_count": 34,
   "metadata": {},
   "outputs": [
    {
     "data": {
      "text/plain": [
       "0       [Internet, Wireless Internet, Kitchen, Free Pa...\n",
       "1       [TV, Internet, Wireless Internet, Kitchen, Fre...\n",
       "2       [TV, Internet, Wireless Internet, Kitchen, Fre...\n",
       "3       [Internet, Wireless Internet, Kitchen, Free Pa...\n",
       "4       [Wireless Internet, Kitchen, Free Parking on P...\n",
       "                              ...                        \n",
       "3813    [TV, Cable TV, Internet, Wireless Internet, Ai...\n",
       "3814    [TV, Cable TV, Internet, Wireless Internet, Ki...\n",
       "3815    [TV, Cable TV, Internet, Wireless Internet, Ai...\n",
       "3816    [TV, Cable TV, Internet, Wireless Internet, Ai...\n",
       "3817    [TV, Internet, Wireless Internet, Kitchen, Fre...\n",
       "Name: comodidades, Length: 3818, dtype: object"
      ]
     },
     "execution_count": 34,
     "metadata": {},
     "output_type": "execute_result"
    }
   ],
   "source": [
    "dados['comodidades'] = dados['comodidades'].str.split(',')\n",
    "dados['comodidades']"
   ]
  },
  {
   "cell_type": "markdown",
   "metadata": {},
   "source": [
    "### Desafio: tokenizar a coluna descricao_vizinhanca"
   ]
  },
  {
   "cell_type": "code",
   "execution_count": 35,
   "metadata": {},
   "outputs": [
    {
     "data": {
      "text/plain": [
       "\"A wonderful QUIET neighborhood. The #7  bus is 3 blocks away!  It is another reason why I bought the house. Gorgeous Seward Park is 1.5 miles away and consists of a 2.5 mile paved jogging/bike trail, second growth forests with cool wooded trails, a lifeguard  beach, all nestled in a cove right on Lake Washington.  Downtown Columbia City is within a mile, with all sorts of great eateries, the excellent Columbia City bakery, and some fine pubs with live music, a movie theater, a kids' shop, plus lots of other unique stores. You won't want to miss the glorious Columbia City Farmer's Market ( Wednesdays, 3-7pm, May-October) with lots of organic produce, gorgeous flowers, delectable samples, hot foods to go, and live music!  Great Neighbors!I am blessed with wonderfully kind helpful neighbors in this multicultural neighborhood!\""
      ]
     },
     "execution_count": 35,
     "metadata": {},
     "output_type": "execute_result"
    }
   ],
   "source": [
    "dados['descricao_vizinhanca'][42]"
   ]
  },
  {
   "cell_type": "code",
   "execution_count": 36,
   "metadata": {},
   "outputs": [
    {
     "data": {
      "text/plain": [
       "\"a wonderful quiet neighborhood. the #7  bus is 3 blocks away!  it is another reason why i bought the house. gorgeous seward park is 1.5 miles away and consists of a 2.5 mile paved jogging/bike trail, second growth forests with cool wooded trails, a lifeguard  beach, all nestled in a cove right on lake washington.  downtown columbia city is within a mile, with all sorts of great eateries, the excellent columbia city bakery, and some fine pubs with live music, a movie theater, a kids' shop, plus lots of other unique stores. you won't want to miss the glorious columbia city farmer's market ( wednesdays, 3-7pm, may-october) with lots of organic produce, gorgeous flowers, delectable samples, hot foods to go, and live music!  great neighbors!i am blessed with wonderfully kind helpful neighbors in this multicultural neighborhood!\""
      ]
     },
     "execution_count": 36,
     "metadata": {},
     "output_type": "execute_result"
    }
   ],
   "source": [
    "dados['descricao_vizinhanca'] = dados['descricao_vizinhanca'].str.lower()\n",
    "dados['descricao_vizinhanca'][42]"
   ]
  },
  {
   "cell_type": "code",
   "execution_count": 37,
   "metadata": {},
   "outputs": [
    {
     "data": {
      "text/plain": [
       "\"a wonderful quiet neighborhood  the  7  bus is 3 blocks away   it is another reason why i bought the house  gorgeous seward park is 1 5 miles away and consists of a 2 5 mile paved jogging bike trail  second growth forests with cool wooded trails  a lifeguard  beach  all nestled in a cove right on lake washington   downtown columbia city is within a mile  with all sorts of great eateries  the excellent columbia city bakery  and some fine pubs with live music  a movie theater  a kids' shop  plus lots of other unique stores  you won't want to miss the glorious columbia city farmer's market   wednesdays  3-7pm  may-october  with lots of organic produce  gorgeous flowers  delectable samples  hot foods to go  and live music   great neighbors i am blessed with wonderfully kind helpful neighbors in this multicultural neighborhood \""
      ]
     },
     "execution_count": 37,
     "metadata": {},
     "output_type": "execute_result"
    }
   ],
   "source": [
    "dados['descricao_vizinhanca'] = dados['descricao_vizinhanca'].str.replace('[^a-zA-Z0-9\\-\\']',' ',regex = True)\n",
    "dados['descricao_vizinhanca'][42]"
   ]
  },
  {
   "cell_type": "code",
   "execution_count": 38,
   "metadata": {},
   "outputs": [
    {
     "data": {
      "text/plain": [
       "\"a wonderful quiet neighborhood  the  7  bus is 3 blocks away   it is another reason why i bought the house  gorgeous seward park is 1 5 miles away and consists of a 2 5 mile paved jogging bike trail  second growth forests with cool wooded trails  a lifeguard  beach  all nestled in a cove right on lake washington   downtown columbia city is within a mile  with all sorts of great eateries  the excellent columbia city bakery  and some fine pubs with live music  a movie theater  a kids' shop  plus lots of other unique stores  you won't want to miss the glorious columbia city farmer's market   wednesdays  3-7pm  may-october  with lots of organic produce  gorgeous flowers  delectable samples  hot foods to go  and live music   great neighbors i am blessed with wonderfully kind helpful neighbors in this multicultural neighborhood \""
      ]
     },
     "execution_count": 38,
     "metadata": {},
     "output_type": "execute_result"
    }
   ],
   "source": [
    "dados['descricao_vizinhanca'] = dados['descricao_vizinhanca'].str.replace('(?<!\\w)-(?<!\\w)', '', regex = True)\n",
    "dados['descricao_vizinhanca'][42]"
   ]
  },
  {
   "cell_type": "code",
   "execution_count": 39,
   "metadata": {},
   "outputs": [
    {
     "data": {
      "text/plain": [
       "['a',\n",
       " 'wonderful',\n",
       " 'quiet',\n",
       " 'neighborhood',\n",
       " 'the',\n",
       " '7',\n",
       " 'bus',\n",
       " 'is',\n",
       " '3',\n",
       " 'blocks',\n",
       " 'away',\n",
       " 'it',\n",
       " 'is',\n",
       " 'another',\n",
       " 'reason',\n",
       " 'why',\n",
       " 'i',\n",
       " 'bought',\n",
       " 'the',\n",
       " 'house',\n",
       " 'gorgeous',\n",
       " 'seward',\n",
       " 'park',\n",
       " 'is',\n",
       " '1',\n",
       " '5',\n",
       " 'miles',\n",
       " 'away',\n",
       " 'and',\n",
       " 'consists',\n",
       " 'of',\n",
       " 'a',\n",
       " '2',\n",
       " '5',\n",
       " 'mile',\n",
       " 'paved',\n",
       " 'jogging',\n",
       " 'bike',\n",
       " 'trail',\n",
       " 'second',\n",
       " 'growth',\n",
       " 'forests',\n",
       " 'with',\n",
       " 'cool',\n",
       " 'wooded',\n",
       " 'trails',\n",
       " 'a',\n",
       " 'lifeguard',\n",
       " 'beach',\n",
       " 'all',\n",
       " 'nestled',\n",
       " 'in',\n",
       " 'a',\n",
       " 'cove',\n",
       " 'right',\n",
       " 'on',\n",
       " 'lake',\n",
       " 'washington',\n",
       " 'downtown',\n",
       " 'columbia',\n",
       " 'city',\n",
       " 'is',\n",
       " 'within',\n",
       " 'a',\n",
       " 'mile',\n",
       " 'with',\n",
       " 'all',\n",
       " 'sorts',\n",
       " 'of',\n",
       " 'great',\n",
       " 'eateries',\n",
       " 'the',\n",
       " 'excellent',\n",
       " 'columbia',\n",
       " 'city',\n",
       " 'bakery',\n",
       " 'and',\n",
       " 'some',\n",
       " 'fine',\n",
       " 'pubs',\n",
       " 'with',\n",
       " 'live',\n",
       " 'music',\n",
       " 'a',\n",
       " 'movie',\n",
       " 'theater',\n",
       " 'a',\n",
       " \"kids'\",\n",
       " 'shop',\n",
       " 'plus',\n",
       " 'lots',\n",
       " 'of',\n",
       " 'other',\n",
       " 'unique',\n",
       " 'stores',\n",
       " 'you',\n",
       " \"won't\",\n",
       " 'want',\n",
       " 'to',\n",
       " 'miss',\n",
       " 'the',\n",
       " 'glorious',\n",
       " 'columbia',\n",
       " 'city',\n",
       " \"farmer's\",\n",
       " 'market',\n",
       " 'wednesdays',\n",
       " '3-7pm',\n",
       " 'may-october',\n",
       " 'with',\n",
       " 'lots',\n",
       " 'of',\n",
       " 'organic',\n",
       " 'produce',\n",
       " 'gorgeous',\n",
       " 'flowers',\n",
       " 'delectable',\n",
       " 'samples',\n",
       " 'hot',\n",
       " 'foods',\n",
       " 'to',\n",
       " 'go',\n",
       " 'and',\n",
       " 'live',\n",
       " 'music',\n",
       " 'great',\n",
       " 'neighbors',\n",
       " 'i',\n",
       " 'am',\n",
       " 'blessed',\n",
       " 'with',\n",
       " 'wonderfully',\n",
       " 'kind',\n",
       " 'helpful',\n",
       " 'neighbors',\n",
       " 'in',\n",
       " 'this',\n",
       " 'multicultural',\n",
       " 'neighborhood']"
      ]
     },
     "execution_count": 39,
     "metadata": {},
     "output_type": "execute_result"
    }
   ],
   "source": [
    "dados['descricao_vizinhanca'] = dados['descricao_vizinhanca'].str.split()\n",
    "dados['descricao_vizinhanca'][42]"
   ]
  },
  {
   "cell_type": "markdown",
   "metadata": {},
   "source": [
    "# Dados de tempo\n",
    "\n",
    "## Transformando os dados para tempo"
   ]
  },
  {
   "cell_type": "code",
   "execution_count": 40,
   "metadata": {},
   "outputs": [],
   "source": [
    "dt_data = pd.read_json('./data/moveis_disponiveis.json')"
   ]
  },
  {
   "cell_type": "code",
   "execution_count": 41,
   "metadata": {},
   "outputs": [
    {
     "data": {
      "text/html": [
       "<div>\n",
       "<style scoped>\n",
       "    .dataframe tbody tr th:only-of-type {\n",
       "        vertical-align: middle;\n",
       "    }\n",
       "\n",
       "    .dataframe tbody tr th {\n",
       "        vertical-align: top;\n",
       "    }\n",
       "\n",
       "    .dataframe thead th {\n",
       "        text-align: right;\n",
       "    }\n",
       "</style>\n",
       "<table border=\"1\" class=\"dataframe\">\n",
       "  <thead>\n",
       "    <tr style=\"text-align: right;\">\n",
       "      <th></th>\n",
       "      <th>id</th>\n",
       "      <th>data</th>\n",
       "      <th>vaga_disponivel</th>\n",
       "      <th>preco</th>\n",
       "    </tr>\n",
       "  </thead>\n",
       "  <tbody>\n",
       "    <tr>\n",
       "      <th>0</th>\n",
       "      <td>857</td>\n",
       "      <td>2016-01-04</td>\n",
       "      <td>False</td>\n",
       "      <td>None</td>\n",
       "    </tr>\n",
       "    <tr>\n",
       "      <th>1</th>\n",
       "      <td>857</td>\n",
       "      <td>2016-01-05</td>\n",
       "      <td>False</td>\n",
       "      <td>None</td>\n",
       "    </tr>\n",
       "    <tr>\n",
       "      <th>2</th>\n",
       "      <td>857</td>\n",
       "      <td>2016-01-06</td>\n",
       "      <td>False</td>\n",
       "      <td>None</td>\n",
       "    </tr>\n",
       "    <tr>\n",
       "      <th>3</th>\n",
       "      <td>857</td>\n",
       "      <td>2016-01-07</td>\n",
       "      <td>False</td>\n",
       "      <td>None</td>\n",
       "    </tr>\n",
       "    <tr>\n",
       "      <th>4</th>\n",
       "      <td>857</td>\n",
       "      <td>2016-01-08</td>\n",
       "      <td>False</td>\n",
       "      <td>None</td>\n",
       "    </tr>\n",
       "    <tr>\n",
       "      <th>...</th>\n",
       "      <td>...</td>\n",
       "      <td>...</td>\n",
       "      <td>...</td>\n",
       "      <td>...</td>\n",
       "    </tr>\n",
       "    <tr>\n",
       "      <th>364995</th>\n",
       "      <td>3279</td>\n",
       "      <td>2016-12-29</td>\n",
       "      <td>True</td>\n",
       "      <td>$140.00</td>\n",
       "    </tr>\n",
       "    <tr>\n",
       "      <th>364996</th>\n",
       "      <td>3279</td>\n",
       "      <td>2016-12-30</td>\n",
       "      <td>True</td>\n",
       "      <td>$140.00</td>\n",
       "    </tr>\n",
       "    <tr>\n",
       "      <th>364997</th>\n",
       "      <td>3279</td>\n",
       "      <td>2016-12-31</td>\n",
       "      <td>True</td>\n",
       "      <td>$140.00</td>\n",
       "    </tr>\n",
       "    <tr>\n",
       "      <th>364998</th>\n",
       "      <td>3279</td>\n",
       "      <td>2017-01-01</td>\n",
       "      <td>True</td>\n",
       "      <td>$140.00</td>\n",
       "    </tr>\n",
       "    <tr>\n",
       "      <th>364999</th>\n",
       "      <td>3279</td>\n",
       "      <td>2017-01-02</td>\n",
       "      <td>False</td>\n",
       "      <td>None</td>\n",
       "    </tr>\n",
       "  </tbody>\n",
       "</table>\n",
       "<p>365000 rows × 4 columns</p>\n",
       "</div>"
      ],
      "text/plain": [
       "          id        data  vaga_disponivel    preco\n",
       "0        857  2016-01-04            False     None\n",
       "1        857  2016-01-05            False     None\n",
       "2        857  2016-01-06            False     None\n",
       "3        857  2016-01-07            False     None\n",
       "4        857  2016-01-08            False     None\n",
       "...      ...         ...              ...      ...\n",
       "364995  3279  2016-12-29             True  $140.00\n",
       "364996  3279  2016-12-30             True  $140.00\n",
       "364997  3279  2016-12-31             True  $140.00\n",
       "364998  3279  2017-01-01             True  $140.00\n",
       "364999  3279  2017-01-02            False     None\n",
       "\n",
       "[365000 rows x 4 columns]"
      ]
     },
     "execution_count": 41,
     "metadata": {},
     "output_type": "execute_result"
    }
   ],
   "source": [
    "dt_data"
   ]
  },
  {
   "cell_type": "code",
   "execution_count": 42,
   "metadata": {},
   "outputs": [
    {
     "name": "stdout",
     "output_type": "stream",
     "text": [
      "<class 'pandas.core.frame.DataFrame'>\n",
      "Int64Index: 365000 entries, 0 to 364999\n",
      "Data columns (total 4 columns):\n",
      " #   Column           Non-Null Count   Dtype \n",
      "---  ------           --------------   ----- \n",
      " 0   id               365000 non-null  int64 \n",
      " 1   data             365000 non-null  object\n",
      " 2   vaga_disponivel  365000 non-null  bool  \n",
      " 3   preco            270547 non-null  object\n",
      "dtypes: bool(1), int64(1), object(2)\n",
      "memory usage: 11.5+ MB\n"
     ]
    }
   ],
   "source": [
    "dt_data.info()"
   ]
  },
  {
   "cell_type": "code",
   "execution_count": 43,
   "metadata": {},
   "outputs": [],
   "source": [
    "dt_data['data'] = pd.to_datetime(dt_data['data'])"
   ]
  },
  {
   "cell_type": "code",
   "execution_count": 44,
   "metadata": {},
   "outputs": [
    {
     "name": "stdout",
     "output_type": "stream",
     "text": [
      "<class 'pandas.core.frame.DataFrame'>\n",
      "Int64Index: 365000 entries, 0 to 364999\n",
      "Data columns (total 4 columns):\n",
      " #   Column           Non-Null Count   Dtype         \n",
      "---  ------           --------------   -----         \n",
      " 0   id               365000 non-null  int64         \n",
      " 1   data             365000 non-null  datetime64[ns]\n",
      " 2   vaga_disponivel  365000 non-null  bool          \n",
      " 3   preco            270547 non-null  object        \n",
      "dtypes: bool(1), datetime64[ns](1), int64(1), object(1)\n",
      "memory usage: 11.5+ MB\n"
     ]
    }
   ],
   "source": [
    "dt_data.info()"
   ]
  },
  {
   "cell_type": "markdown",
   "metadata": {},
   "source": [
    "## Manipulando dados temporais"
   ]
  },
  {
   "cell_type": "code",
   "execution_count": 45,
   "metadata": {},
   "outputs": [
    {
     "data": {
      "text/plain": [
       "0        2016-01-04\n",
       "1        2016-01-05\n",
       "2        2016-01-06\n",
       "3        2016-01-07\n",
       "4        2016-01-08\n",
       "            ...    \n",
       "364995   2016-12-29\n",
       "364996   2016-12-30\n",
       "364997   2016-12-31\n",
       "364998   2017-01-01\n",
       "364999   2017-01-02\n",
       "Name: data, Length: 365000, dtype: datetime64[ns]"
      ]
     },
     "execution_count": 45,
     "metadata": {},
     "output_type": "execute_result"
    }
   ],
   "source": [
    "dt_data['data']"
   ]
  },
  {
   "cell_type": "code",
   "execution_count": 46,
   "metadata": {},
   "outputs": [
    {
     "data": {
      "text/plain": [
       "0         2016-01\n",
       "1         2016-01\n",
       "2         2016-01\n",
       "3         2016-01\n",
       "4         2016-01\n",
       "           ...   \n",
       "364995    2016-12\n",
       "364996    2016-12\n",
       "364997    2016-12\n",
       "364998    2017-01\n",
       "364999    2017-01\n",
       "Name: data, Length: 365000, dtype: object"
      ]
     },
     "execution_count": 46,
     "metadata": {},
     "output_type": "execute_result"
    }
   ],
   "source": [
    "dt_data['data'].dt.strftime('%Y-%m')"
   ]
  },
  {
   "cell_type": "code",
   "execution_count": 47,
   "metadata": {},
   "outputs": [
    {
     "data": {
      "text/plain": [
       "data\n",
       "2016-01    16543\n",
       "2016-02    20128\n",
       "2016-03    23357\n",
       "2016-04    22597\n",
       "2016-05    23842\n",
       "2016-06    23651\n",
       "2016-07    22329\n",
       "2016-08    22529\n",
       "2016-09    22471\n",
       "2016-10    23765\n",
       "2016-11    23352\n",
       "2016-12    24409\n",
       "2017-01     1574\n",
       "Name: vaga_disponivel, dtype: int64"
      ]
     },
     "execution_count": 47,
     "metadata": {},
     "output_type": "execute_result"
    }
   ],
   "source": [
    "subset = dt_data.groupby(dt_data['data'].dt.strftime('%Y-%m'))['vaga_disponivel'].sum()\n",
    "subset"
   ]
  },
  {
   "cell_type": "markdown",
   "metadata": {},
   "source": [
    "### Desafio: \n",
    "- faça a transformação dos dados na coluna preco do conjunto de dados moveis_disponiveis.json para o tipo numérico float64"
   ]
  },
  {
   "cell_type": "code",
   "execution_count": 48,
   "metadata": {},
   "outputs": [],
   "source": [
    "dt_data['preco'] = dt_data['preco'].fillna('0.0')"
   ]
  },
  {
   "cell_type": "code",
   "execution_count": 49,
   "metadata": {},
   "outputs": [
    {
     "data": {
      "text/plain": [
       "0            0.0\n",
       "1            0.0\n",
       "2            0.0\n",
       "3            0.0\n",
       "4            0.0\n",
       "           ...  \n",
       "364995    140.00\n",
       "364996    140.00\n",
       "364997    140.00\n",
       "364998    140.00\n",
       "364999       0.0\n",
       "Name: preco, Length: 365000, dtype: object"
      ]
     },
     "execution_count": 49,
     "metadata": {},
     "output_type": "execute_result"
    }
   ],
   "source": [
    "dt_data['preco'] = dt_data['preco'].apply(lambda x: x.replace('$','').replace(',','').strip())\n",
    "dt_data['preco']"
   ]
  },
  {
   "cell_type": "markdown",
   "metadata": {},
   "source": [
    "Aqui eu poderia usar regex também, mas eu achei mais fácil apply lambda para trabalhar com duas substituições de uma vez, o \"$\" e as \",\"."
   ]
  },
  {
   "cell_type": "code",
   "execution_count": 50,
   "metadata": {},
   "outputs": [
    {
     "data": {
      "text/plain": [
       "0           0.0\n",
       "1           0.0\n",
       "2           0.0\n",
       "3           0.0\n",
       "4           0.0\n",
       "          ...  \n",
       "364995    140.0\n",
       "364996    140.0\n",
       "364997    140.0\n",
       "364998    140.0\n",
       "364999      0.0\n",
       "Name: preco, Length: 365000, dtype: float64"
      ]
     },
     "execution_count": 50,
     "metadata": {},
     "output_type": "execute_result"
    }
   ],
   "source": [
    "dt_data['preco'].astype(np.float64)"
   ]
  }
 ],
 "metadata": {
  "kernelspec": {
   "display_name": "base",
   "language": "python",
   "name": "python3"
  },
  "language_info": {
   "codemirror_mode": {
    "name": "ipython",
    "version": 3
   },
   "file_extension": ".py",
   "mimetype": "text/x-python",
   "name": "python",
   "nbconvert_exporter": "python",
   "pygments_lexer": "ipython3",
   "version": "3.9.13"
  },
  "orig_nbformat": 4
 },
 "nbformat": 4,
 "nbformat_minor": 2
}
